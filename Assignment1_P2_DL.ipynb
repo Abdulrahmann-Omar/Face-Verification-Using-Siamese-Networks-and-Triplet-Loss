{
  "nbformat": 4,
  "nbformat_minor": 0,
  "metadata": {
    "colab": {
      "provenance": [],
      "gpuType": "T4"
    },
    "kernelspec": {
      "name": "python3",
      "display_name": "Python 3"
    },
    "language_info": {
      "name": "python"
    },
    "accelerator": "GPU"
  },
  "cells": [
    {
      "cell_type": "markdown",
      "source": [
        "## Importing\n",
        "\n",
        "\n",
        "\n",
        "\n",
        "---\n",
        "\n",
        "Import the data from kaggle using kaggle.json file and unzipping it"
      ],
      "metadata": {
        "id": "Xi6SQHIQyb5Z"
      }
    },
    {
      "cell_type": "code",
      "source": [
        "!pip install -q kaggle"
      ],
      "metadata": {
        "id": "UM5h4lluhT7b"
      },
      "execution_count": null,
      "outputs": []
    },
    {
      "cell_type": "code",
      "source": [
        "from google.colab import files\n",
        "uploaded = files.upload()  # Upload kaggle.json"
      ],
      "metadata": {
        "colab": {
          "base_uri": "https://localhost:8080/",
          "height": 71
        },
        "id": "IWIooYEhvosZ",
        "outputId": "6364f7cd-599a-4128-c791-fd7533666f29"
      },
      "execution_count": null,
      "outputs": [
        {
          "output_type": "display_data",
          "data": {
            "text/plain": [
              "<IPython.core.display.HTML object>"
            ],
            "text/html": [
              "\n",
              "     <input type=\"file\" id=\"files-f3df1fc7-6d0c-4ae0-9ec2-300fbe1007b1\" name=\"files[]\" multiple disabled\n",
              "        style=\"border:none\" />\n",
              "     <output id=\"result-f3df1fc7-6d0c-4ae0-9ec2-300fbe1007b1\">\n",
              "      Upload widget is only available when the cell has been executed in the\n",
              "      current browser session. Please rerun this cell to enable.\n",
              "      </output>\n",
              "      <script>// Copyright 2017 Google LLC\n",
              "//\n",
              "// Licensed under the Apache License, Version 2.0 (the \"License\");\n",
              "// you may not use this file except in compliance with the License.\n",
              "// You may obtain a copy of the License at\n",
              "//\n",
              "//      http://www.apache.org/licenses/LICENSE-2.0\n",
              "//\n",
              "// Unless required by applicable law or agreed to in writing, software\n",
              "// distributed under the License is distributed on an \"AS IS\" BASIS,\n",
              "// WITHOUT WARRANTIES OR CONDITIONS OF ANY KIND, either express or implied.\n",
              "// See the License for the specific language governing permissions and\n",
              "// limitations under the License.\n",
              "\n",
              "/**\n",
              " * @fileoverview Helpers for google.colab Python module.\n",
              " */\n",
              "(function(scope) {\n",
              "function span(text, styleAttributes = {}) {\n",
              "  const element = document.createElement('span');\n",
              "  element.textContent = text;\n",
              "  for (const key of Object.keys(styleAttributes)) {\n",
              "    element.style[key] = styleAttributes[key];\n",
              "  }\n",
              "  return element;\n",
              "}\n",
              "\n",
              "// Max number of bytes which will be uploaded at a time.\n",
              "const MAX_PAYLOAD_SIZE = 100 * 1024;\n",
              "\n",
              "function _uploadFiles(inputId, outputId) {\n",
              "  const steps = uploadFilesStep(inputId, outputId);\n",
              "  const outputElement = document.getElementById(outputId);\n",
              "  // Cache steps on the outputElement to make it available for the next call\n",
              "  // to uploadFilesContinue from Python.\n",
              "  outputElement.steps = steps;\n",
              "\n",
              "  return _uploadFilesContinue(outputId);\n",
              "}\n",
              "\n",
              "// This is roughly an async generator (not supported in the browser yet),\n",
              "// where there are multiple asynchronous steps and the Python side is going\n",
              "// to poll for completion of each step.\n",
              "// This uses a Promise to block the python side on completion of each step,\n",
              "// then passes the result of the previous step as the input to the next step.\n",
              "function _uploadFilesContinue(outputId) {\n",
              "  const outputElement = document.getElementById(outputId);\n",
              "  const steps = outputElement.steps;\n",
              "\n",
              "  const next = steps.next(outputElement.lastPromiseValue);\n",
              "  return Promise.resolve(next.value.promise).then((value) => {\n",
              "    // Cache the last promise value to make it available to the next\n",
              "    // step of the generator.\n",
              "    outputElement.lastPromiseValue = value;\n",
              "    return next.value.response;\n",
              "  });\n",
              "}\n",
              "\n",
              "/**\n",
              " * Generator function which is called between each async step of the upload\n",
              " * process.\n",
              " * @param {string} inputId Element ID of the input file picker element.\n",
              " * @param {string} outputId Element ID of the output display.\n",
              " * @return {!Iterable<!Object>} Iterable of next steps.\n",
              " */\n",
              "function* uploadFilesStep(inputId, outputId) {\n",
              "  const inputElement = document.getElementById(inputId);\n",
              "  inputElement.disabled = false;\n",
              "\n",
              "  const outputElement = document.getElementById(outputId);\n",
              "  outputElement.innerHTML = '';\n",
              "\n",
              "  const pickedPromise = new Promise((resolve) => {\n",
              "    inputElement.addEventListener('change', (e) => {\n",
              "      resolve(e.target.files);\n",
              "    });\n",
              "  });\n",
              "\n",
              "  const cancel = document.createElement('button');\n",
              "  inputElement.parentElement.appendChild(cancel);\n",
              "  cancel.textContent = 'Cancel upload';\n",
              "  const cancelPromise = new Promise((resolve) => {\n",
              "    cancel.onclick = () => {\n",
              "      resolve(null);\n",
              "    };\n",
              "  });\n",
              "\n",
              "  // Wait for the user to pick the files.\n",
              "  const files = yield {\n",
              "    promise: Promise.race([pickedPromise, cancelPromise]),\n",
              "    response: {\n",
              "      action: 'starting',\n",
              "    }\n",
              "  };\n",
              "\n",
              "  cancel.remove();\n",
              "\n",
              "  // Disable the input element since further picks are not allowed.\n",
              "  inputElement.disabled = true;\n",
              "\n",
              "  if (!files) {\n",
              "    return {\n",
              "      response: {\n",
              "        action: 'complete',\n",
              "      }\n",
              "    };\n",
              "  }\n",
              "\n",
              "  for (const file of files) {\n",
              "    const li = document.createElement('li');\n",
              "    li.append(span(file.name, {fontWeight: 'bold'}));\n",
              "    li.append(span(\n",
              "        `(${file.type || 'n/a'}) - ${file.size} bytes, ` +\n",
              "        `last modified: ${\n",
              "            file.lastModifiedDate ? file.lastModifiedDate.toLocaleDateString() :\n",
              "                                    'n/a'} - `));\n",
              "    const percent = span('0% done');\n",
              "    li.appendChild(percent);\n",
              "\n",
              "    outputElement.appendChild(li);\n",
              "\n",
              "    const fileDataPromise = new Promise((resolve) => {\n",
              "      const reader = new FileReader();\n",
              "      reader.onload = (e) => {\n",
              "        resolve(e.target.result);\n",
              "      };\n",
              "      reader.readAsArrayBuffer(file);\n",
              "    });\n",
              "    // Wait for the data to be ready.\n",
              "    let fileData = yield {\n",
              "      promise: fileDataPromise,\n",
              "      response: {\n",
              "        action: 'continue',\n",
              "      }\n",
              "    };\n",
              "\n",
              "    // Use a chunked sending to avoid message size limits. See b/62115660.\n",
              "    let position = 0;\n",
              "    do {\n",
              "      const length = Math.min(fileData.byteLength - position, MAX_PAYLOAD_SIZE);\n",
              "      const chunk = new Uint8Array(fileData, position, length);\n",
              "      position += length;\n",
              "\n",
              "      const base64 = btoa(String.fromCharCode.apply(null, chunk));\n",
              "      yield {\n",
              "        response: {\n",
              "          action: 'append',\n",
              "          file: file.name,\n",
              "          data: base64,\n",
              "        },\n",
              "      };\n",
              "\n",
              "      let percentDone = fileData.byteLength === 0 ?\n",
              "          100 :\n",
              "          Math.round((position / fileData.byteLength) * 100);\n",
              "      percent.textContent = `${percentDone}% done`;\n",
              "\n",
              "    } while (position < fileData.byteLength);\n",
              "  }\n",
              "\n",
              "  // All done.\n",
              "  yield {\n",
              "    response: {\n",
              "      action: 'complete',\n",
              "    }\n",
              "  };\n",
              "}\n",
              "\n",
              "scope.google = scope.google || {};\n",
              "scope.google.colab = scope.google.colab || {};\n",
              "scope.google.colab._files = {\n",
              "  _uploadFiles,\n",
              "  _uploadFilesContinue,\n",
              "};\n",
              "})(self);\n",
              "</script> "
            ]
          },
          "metadata": {}
        },
        {
          "output_type": "stream",
          "name": "stdout",
          "text": [
            "Saving kaggle.json to kaggle.json\n"
          ]
        }
      ]
    },
    {
      "cell_type": "code",
      "source": [
        "!mkdir -p ~/.kaggle\n",
        "!cp kaggle.json ~/.kaggle/\n",
        "!chmod 600 ~/.kaggle/kaggle.json"
      ],
      "metadata": {
        "id": "2C_withesTIl"
      },
      "execution_count": null,
      "outputs": []
    },
    {
      "cell_type": "code",
      "source": [
        "!kaggle datasets download -d jessicali9530/lfw-dataset"
      ],
      "metadata": {
        "colab": {
          "base_uri": "https://localhost:8080/"
        },
        "id": "jCSMQ2pasTLU",
        "outputId": "81d1bad3-3842-4fa6-8e84-bffc3510b4e9"
      },
      "execution_count": null,
      "outputs": [
        {
          "output_type": "stream",
          "name": "stdout",
          "text": [
            "Dataset URL: https://www.kaggle.com/datasets/jessicali9530/lfw-dataset\n",
            "License(s): other\n"
          ]
        }
      ]
    },
    {
      "cell_type": "code",
      "source": [
        "import zipfile\n",
        "import os\n",
        "\n",
        "zip_path = '/content/lfw-dataset.zip'\n",
        "extract_path = '/content/lfw_dataset'\n",
        "\n",
        "with zipfile.ZipFile(zip_path, 'r') as zip_ref:\n",
        "    zip_ref.extractall(extract_path)\n",
        "\n",
        "# List the extracted files to verify\n",
        "os.listdir(extract_path)"
      ],
      "metadata": {
        "colab": {
          "base_uri": "https://localhost:8080/"
        },
        "id": "AQSvwgNVsTOG",
        "outputId": "faf5c87e-206c-4a76-b7c7-09990ea5af5f"
      },
      "execution_count": null,
      "outputs": [
        {
          "output_type": "execute_result",
          "data": {
            "text/plain": [
              "['matchpairsDevTest.csv',\n",
              " 'peopleDevTrain.csv',\n",
              " 'mismatchpairsDevTest.csv',\n",
              " 'mismatchpairsDevTrain.csv',\n",
              " 'lfw_readme.csv',\n",
              " 'lfw_allnames.csv',\n",
              " 'people.csv',\n",
              " 'matchpairsDevTrain.csv',\n",
              " 'pairs.csv',\n",
              " 'lfw-deepfunneled',\n",
              " 'peopleDevTest.csv']"
            ]
          },
          "metadata": {},
          "execution_count": 6
        }
      ]
    },
    {
      "cell_type": "markdown",
      "source": [
        "## Load the images and visualize it as 48*48"
      ],
      "metadata": {
        "id": "krh-IIfXytCJ"
      }
    },
    {
      "cell_type": "code",
      "source": [
        "from PIL import Image\n",
        "import numpy as np\n",
        "\n",
        "def load_image(image_path):\n",
        "    \"\"\"Load an image and convert to numpy array.\"\"\"\n",
        "    img = Image.open(image_path).convert('RGB')\n",
        "    return np.array(img)\n",
        "\n",
        "# Path to lfw-deepfunneled folder\n",
        "lfw_folder = '/content/lfw_dataset/lfw-deepfunneled/lfw-deepfunneled'\n",
        "\n",
        "# Dictionary to store images by person\n",
        "image_dict = {}\n",
        "\n",
        "# Walk through the lfw-deepfunneled directory\n",
        "for root, dirs, files in os.walk(lfw_folder):\n",
        "    for file in files:\n",
        "        if file.endswith('.jpg'):\n",
        "            person_name = os.path.basename(root)\n",
        "            image_path = os.path.join(root, file)\n",
        "            if person_name not in image_dict:\n",
        "                image_dict[person_name] = []\n",
        "            image_dict[person_name].append(image_path)\n",
        "\n",
        "print(f\"Loaded images for {len(image_dict)} individuals.\")"
      ],
      "metadata": {
        "colab": {
          "base_uri": "https://localhost:8080/"
        },
        "id": "t0Ob9XXXsTQ4",
        "outputId": "5fc43091-ec66-40bd-f9c2-cb38aa1fff44"
      },
      "execution_count": null,
      "outputs": [
        {
          "output_type": "stream",
          "name": "stdout",
          "text": [
            "Loaded images for 5749 individuals.\n"
          ]
        }
      ]
    },
    {
      "cell_type": "code",
      "source": [
        "import pandas as pd\n",
        "\n",
        "# Load pair files\n",
        "match_train = pd.read_csv('/content/lfw_dataset/matchpairsDevTrain.csv')\n",
        "match_test = pd.read_csv('/content/lfw_dataset/matchpairsDevTest.csv')\n",
        "\n",
        "def create_positive_pairs(df, lfw_folder):\n",
        "    pairs = []\n",
        "    labels = []\n",
        "    for _, row in df.iterrows():\n",
        "        person = row['name']\n",
        "        img1_num = row['imagenum1']\n",
        "        img2_num = row['imagenum2']\n",
        "        # Construct image paths (e.g., George_W_Bush/George_W_Bush_0001.jpg)\n",
        "        img1_path = os.path.join(lfw_folder, person, f\"{person}_{img1_num:04d}.jpg\")\n",
        "        img2_path = os.path.join(lfw_folder, person, f\"{person}_{img2_num:04d}.jpg\")\n",
        "        if os.path.exists(img1_path) and os.path.exists(img2_path):\n",
        "            pairs.append((img1_path, img2_path))\n",
        "            labels.append(1)  # Positive pair (same person)\n",
        "    return pairs, labels\n",
        "\n",
        "# Create positive pairs\n",
        "positive_pairs_train, positive_labels_train = create_positive_pairs(match_train, lfw_folder)\n",
        "positive_pairs_test, positive_labels_test = create_positive_pairs(match_test, lfw_folder)\n",
        "\n",
        "print(f\"Positive pairs (train): {len(positive_pairs_train)}\")\n",
        "print(f\"Positive pairs (test): {len(positive_pairs_test)}\")"
      ],
      "metadata": {
        "colab": {
          "base_uri": "https://localhost:8080/"
        },
        "id": "B_GCP7epv6z2",
        "outputId": "f2d74ba3-47bd-418d-e6e3-402cfdedac2d"
      },
      "execution_count": null,
      "outputs": [
        {
          "output_type": "stream",
          "name": "stdout",
          "text": [
            "Positive pairs (train): 1100\n",
            "Positive pairs (test): 500\n"
          ]
        }
      ]
    },
    {
      "cell_type": "code",
      "source": [
        "# Load mismatch pair files\n",
        "mismatch_train = pd.read_csv('/content/lfw_dataset/mismatchpairsDevTrain.csv')\n",
        "mismatch_test = pd.read_csv('/content/lfw_dataset/mismatchpairsDevTest.csv')\n",
        "\n",
        "def create_negative_pairs(df, lfw_folder):\n",
        "    pairs = []\n",
        "    labels = []\n",
        "    for _, row in df.iterrows():\n",
        "        person1 = row['name']\n",
        "        img1_num = row['imagenum1']\n",
        "        person2 = row['name.1']\n",
        "        img2_num = row['imagenum2']\n",
        "        img1_path = os.path.join(lfw_folder, person1, f\"{person1}_{img1_num:04d}.jpg\")\n",
        "        img2_path = os.path.join(lfw_folder, person2, f\"{person2}_{img2_num:04d}.jpg\")\n",
        "        if os.path.exists(img1_path) and os.path.exists(img2_path):\n",
        "            pairs.append((img1_path, img2_path))\n",
        "            labels.append(0)  # Negative pair (different people)\n",
        "    return pairs, labels\n",
        "\n",
        "# Create negative pairs\n",
        "negative_pairs_train, negative_labels_train = create_negative_pairs(mismatch_train, lfw_folder)\n",
        "negative_pairs_test, negative_labels_test = create_negative_pairs(mismatch_test, lfw_folder)\n",
        "\n",
        "print(f\"Negative pairs (train): {len(negative_pairs_train)}\")\n",
        "print(f\"Negative pairs (test): {len(negative_pairs_test)}\")"
      ],
      "metadata": {
        "colab": {
          "base_uri": "https://localhost:8080/"
        },
        "id": "a47X_L5-wAQf",
        "outputId": "284e6643-1013-449a-fb3d-093f78c5cc86"
      },
      "execution_count": null,
      "outputs": [
        {
          "output_type": "stream",
          "name": "stdout",
          "text": [
            "Negative pairs (train): 1100\n",
            "Negative pairs (test): 500\n"
          ]
        }
      ]
    },
    {
      "cell_type": "code",
      "source": [
        "def preprocess_image(image_path, size=(48, 48)):\n",
        "    img = load_image(image_path)\n",
        "    img = Image.fromarray(img).resize(size)\n",
        "    img = np.array(img) / 255.0  # Normalize to [0, 1]\n",
        "    return img\n",
        "\n",
        "def preprocess_pairs(pairs):\n",
        "    processed_pairs = []\n",
        "    for img1_path, img2_path in pairs:\n",
        "        img1 = preprocess_image(img1_path)\n",
        "        img2 = preprocess_image(img2_path)\n",
        "        processed_pairs.append((img1, img2))\n",
        "    return processed_pairs\n",
        "\n",
        "# Preprocess all pairs\n",
        "positive_pairs_train_proc = preprocess_pairs(positive_pairs_train)\n",
        "positive_pairs_test_proc = preprocess_pairs(positive_pairs_test)\n",
        "negative_pairs_train_proc = preprocess_pairs(negative_pairs_train)\n",
        "negative_pairs_test_proc = preprocess_pairs(negative_pairs_test)"
      ],
      "metadata": {
        "id": "yyGvz2jwwFlz"
      },
      "execution_count": null,
      "outputs": []
    },
    {
      "cell_type": "code",
      "source": [
        "# Combine train pairs and labels\n",
        "train_pairs = positive_pairs_train_proc + negative_pairs_train_proc\n",
        "train_labels = positive_labels_train + negative_labels_train\n",
        "\n",
        "# Combine test pairs and labels\n",
        "test_pairs = positive_pairs_test_proc + negative_pairs_test_proc\n",
        "test_labels = positive_labels_test + negative_labels_test\n",
        "\n",
        "# Convert to numpy arrays\n",
        "train_pairs = np.array(train_pairs)\n",
        "train_labels = np.array(train_labels)\n",
        "test_pairs = np.array(test_pairs)\n",
        "test_labels = np.array(test_labels)\n",
        "\n",
        "print(f\"Train set: {len(train_pairs)} pairs\")\n",
        "print(f\"Test set: {len(test_pairs)} pairs\")"
      ],
      "metadata": {
        "colab": {
          "base_uri": "https://localhost:8080/"
        },
        "id": "AgXHjWAowDmC",
        "outputId": "5e205a78-d0b9-44f3-dc34-41cad2b8a06b"
      },
      "execution_count": null,
      "outputs": [
        {
          "output_type": "stream",
          "name": "stdout",
          "text": [
            "Train set: 2200 pairs\n",
            "Test set: 1000 pairs\n"
          ]
        }
      ]
    },
    {
      "cell_type": "code",
      "source": [
        "import tensorflow as tf\n",
        "from tensorflow.keras.applications import ResNet50\n",
        "from tensorflow.keras.models import Model\n",
        "from tensorflow.keras.layers import Input, Dense, Lambda, Flatten\n",
        "from tensorflow.keras.optimizers import Adam\n",
        "from tensorflow.keras.callbacks import EarlyStopping\n",
        "import tensorflow.keras.backend as K\n",
        "import numpy as np\n"
      ],
      "metadata": {
        "id": "OygJkv5IwO6a"
      },
      "execution_count": null,
      "outputs": []
    },
    {
      "cell_type": "code",
      "source": [],
      "metadata": {
        "id": "S4AMhx4zwnAH"
      },
      "execution_count": null,
      "outputs": []
    },
    {
      "source": [
        "import tensorflow as tf\n",
        "from tensorflow.keras.layers import Input, Conv2D, MaxPooling2D, Flatten, Dense\n",
        "import numpy as np\n",
        "import matplotlib.pyplot as plt\n",
        "\n",
        "def visualize(anchor, positive, negative):\n",
        "    \"\"\"Visualize a few triplets from the supplied batches.\"\"\"\n",
        "\n",
        "    def show(ax, image):\n",
        "        ax.imshow(image)\n",
        "        ax.get_xaxis().set_visible(False)\n",
        "        ax.get_yaxis().set_visible(False)\n",
        "\n",
        "    fig = plt.figure(figsize=(9, 9))\n",
        "\n",
        "    axs = fig.subplots(3, 3)\n",
        "    for i in range(3):\n",
        "        show(axs[i, 0], anchor[i])\n",
        "        show(axs[i, 1], positive[i])\n",
        "        show(axs[i, 2], negative[i])\n",
        "\n",
        "# Convert train_pairs to a list of tuples before visualizing\n",
        "train_pairs_list = [tuple(pair) for pair in train_pairs]\n",
        "\n",
        "anchor, positive = zip(*train_pairs_list[:3])\n",
        "negative = positive\n",
        "visualize(np.array(anchor), np.array(positive), np.array(negative))  # Convert back to NumPy arrays"
      ],
      "cell_type": "code",
      "metadata": {
        "colab": {
          "base_uri": "https://localhost:8080/",
          "height": 730
        },
        "id": "5jkJvgSWxtk2",
        "outputId": "ccaa450f-fd5a-4c09-8284-371f8de57381"
      },
      "execution_count": null,
      "outputs": [
        {
          "output_type": "display_data",
          "data": {
            "text/plain": [
              "<Figure size 900x900 with 9 Axes>"
            ],
            "image/png": "[encoded data removed]"
          },
          "metadata": {}
        }
      ]
    },
    {
      "cell_type": "markdown",
      "source": [
        "## Modeling"
      ],
      "metadata": {
        "id": "UBCYnqMO7Uv7"
      }
    },
    {
      "cell_type": "code",
      "source": [
        "import numpy as np\n",
        "import tensorflow as tf\n",
        "from tensorflow.keras import layers, Model, metrics\n",
        "from tensorflow.keras.optimizers import Adam\n",
        "from tensorflow.keras.callbacks import EarlyStopping"
      ],
      "metadata": {
        "id": "Yh4XdPzDwDEl"
      },
      "execution_count": null,
      "outputs": []
    },
    {
      "cell_type": "code",
      "source": [
        "\n",
        "class DistanceLayer(layers.Layer):\n",
        "    def __init__(self, **kwargs):\n",
        "        super().__init__(**kwargs)\n",
        "\n",
        "    def call(self, anchor, positive, negative):\n",
        "        ap_distance = tf.reduce_sum(tf.square(anchor - positive), -1)\n",
        "        an_distance = tf.reduce_sum(tf.square(anchor - negative), -1)\n",
        "        return ap_distance, an_distance\n"
      ],
      "metadata": {
        "id": "qvNA_ffcwN1e"
      },
      "execution_count": null,
      "outputs": []
    },
    {
      "cell_type": "markdown",
      "source": [
        "###Siamese Network"
      ],
      "metadata": {
        "id": "qWcIFGiaxSlS"
      }
    },
    {
      "cell_type": "code",
      "source": [
        "\n",
        "class SiameseModel(Model):\n",
        "    def __init__(self, siamese_network, margin=0.5):\n",
        "        super().__init__()\n",
        "        self.siamese_network = siamese_network\n",
        "        self.margin = margin\n",
        "        self.loss_tracker = metrics.Mean(name=\"loss\")\n",
        "\n",
        "    def call(self, inputs):\n",
        "        return self.siamese_network(inputs)\n",
        "\n",
        "    def train_step(self, data):\n",
        "        # Get the data\n",
        "        (anchor, positive, negative), _ = data\n",
        "\n",
        "        with tf.GradientTape() as tape:\n",
        "            # Forward pass\n",
        "            ap_distance, an_distance = self.siamese_network([anchor, positive, negative])\n",
        "\n",
        "            # Compute loss\n",
        "            loss = ap_distance - an_distance\n",
        "            loss = tf.maximum(loss + self.margin, 0.0)\n",
        "            loss = tf.reduce_mean(loss)\n",
        "\n",
        "        # Compute gradients\n",
        "        gradients = tape.gradient(loss, self.siamese_network.trainable_weights)\n",
        "\n",
        "        # Update weights\n",
        "        self.optimizer.apply_gradients(zip(gradients, self.siamese_network.trainable_weights))\n",
        "\n",
        "        # Update metrics\n",
        "        self.loss_tracker.update_state(loss)\n",
        "\n",
        "        # Return metrics\n",
        "        return {\"loss\": self.loss_tracker.result()}\n",
        "\n",
        "    def test_step(self, data):\n",
        "        # Get the data\n",
        "        (anchor, positive, negative), _ = data\n",
        "\n",
        "        # Forward pass\n",
        "        ap_distance, an_distance = self.siamese_network([anchor, positive, negative])\n",
        "\n",
        "        # Compute loss\n",
        "        loss = ap_distance - an_distance\n",
        "        loss = tf.maximum(loss + self.margin, 0.0)\n",
        "        loss = tf.reduce_mean(loss)\n",
        "\n",
        "        # Update metrics\n",
        "        self.loss_tracker.update_state(loss)\n",
        "\n",
        "        # Return metrics\n",
        "        return {\"loss\": self.loss_tracker.result()}\n",
        "\n",
        "    @property\n",
        "    def metrics(self):\n",
        "        return [self.loss_tracker]\n"
      ],
      "metadata": {
        "id": "kxIfWttTwN4K"
      },
      "execution_count": null,
      "outputs": []
    },
    {
      "cell_type": "markdown",
      "source": [
        "###Embedding network\n",
        "\n",
        "---\n",
        "\n",
        "convert the images into embedding \"numerical\""
      ],
      "metadata": {
        "id": "Qxf3RHQFxaBk"
      }
    },
    {
      "cell_type": "code",
      "source": [
        "\n",
        "def build_embedding_model():\n",
        "    inputs = tf.keras.Input(shape=(48, 48, 3))\n",
        "    x = layers.Conv2D(64, (3, 3), activation='relu')(inputs)\n",
        "    x = layers.MaxPooling2D()(x)\n",
        "    x = layers.Conv2D(128, (3, 3), activation='relu')(x)\n",
        "    x = layers.MaxPooling2D()(x)\n",
        "    x = layers.Flatten()(x)\n",
        "    x = layers.Dense(128, activation='relu')(x)\n",
        "    x = layers.Lambda(lambda x: tf.math.l2_normalize(x, axis=1))(x)  # normalize embeddings\n",
        "    return tf.keras.Model(inputs, x, name=\"embedding\")\n",
        "\n",
        "embedding = build_embedding_model()"
      ],
      "metadata": {
        "id": "BcsSYPhrwN7e"
      },
      "execution_count": null,
      "outputs": []
    },
    {
      "cell_type": "code",
      "source": [
        "\n",
        "target_shape = (48, 48)\n",
        "\n",
        "anchor_input = layers.Input(name=\"anchor\", shape=target_shape + (3,))\n",
        "positive_input = layers.Input(name=\"positive\", shape=target_shape + (3,))\n",
        "negative_input = layers.Input(name=\"negative\", shape=target_shape + (3,))\n",
        "\n",
        "anchor_emb = embedding(anchor_input)\n",
        "positive_emb = embedding(positive_input)\n",
        "negative_emb = embedding(negative_input)\n",
        "\n",
        "distances = DistanceLayer()(anchor_emb, positive_emb, negative_emb)\n",
        "\n",
        "siamese_network = Model(\n",
        "    inputs=[anchor_input, positive_input, negative_input],\n",
        "    outputs=distances,\n",
        "    name=\"SiameseNetwork\"\n",
        ")\n"
      ],
      "metadata": {
        "id": "k2b49d8gwUfO"
      },
      "execution_count": null,
      "outputs": []
    },
    {
      "cell_type": "markdown",
      "source": [
        "### prepare our data from pairt to triples\n",
        "\n",
        "---\n",
        "\n",
        "anchor, positive, negative"
      ],
      "metadata": {
        "id": "M7sBSAxXzZLo"
      }
    },
    {
      "cell_type": "code",
      "source": [
        "\n",
        "BATCH_SIZE = 32\n",
        "\n",
        "def prepare_triplets(pairs, labels):\n",
        "\n",
        "\n",
        "    positive_indices = np.where(labels == 1)[0]\n",
        "    negative_indices = np.where(labels == 0)[0]\n",
        "\n",
        "\n",
        "    anchors = []\n",
        "    positives = []\n",
        "    negatives = []\n",
        "\n",
        "    for pos_idx in positive_indices:\n",
        "        anchor, positive = pairs[pos_idx]\n",
        "\n",
        "        neg_idx = np.random.choice(negative_indices)\n",
        "        _, negative = pairs[neg_idx]\n",
        "\n",
        "        anchors.append(anchor)\n",
        "        positives.append(positive)\n",
        "        negatives.append(negative)\n",
        "\n",
        "    return np.array(anchors), np.array(positives), np.array(negatives)\n"
      ],
      "metadata": {
        "id": "RCkwwkzywdfc"
      },
      "execution_count": null,
      "outputs": []
    },
    {
      "cell_type": "markdown",
      "source": [
        "### split the data to train, test"
      ],
      "metadata": {
        "id": "Y5sUx5g_zxiB"
      }
    },
    {
      "cell_type": "code",
      "source": [
        "\n",
        "train_anchors, train_positives, train_negatives = prepare_triplets(train_pairs, train_labels)\n",
        "\n",
        "train_dataset = tf.data.Dataset.from_tensor_slices((\n",
        "    (train_anchors, train_positives, train_negatives),\n",
        "    np.zeros(len(train_anchors))  # Dummy labels\n",
        ")).shuffle(buffer_size=1024).batch(BATCH_SIZE).prefetch(tf.data.AUTOTUNE)\n",
        "\n",
        "test_anchors, test_positives, test_negatives = prepare_triplets(test_pairs, test_labels)\n",
        "\n",
        "test_dataset = tf.data.Dataset.from_tensor_slices((\n",
        "    (test_anchors, test_positives, test_negatives),\n",
        "    np.zeros(len(test_anchors))  # Dummy labels\n",
        ")).batch(BATCH_SIZE).prefetch(tf.data.AUTOTUNE)\n"
      ],
      "metadata": {
        "id": "ROSJxNzTwdiM"
      },
      "execution_count": null,
      "outputs": []
    },
    {
      "cell_type": "code",
      "source": [
        "\n",
        "early_stopping = EarlyStopping(monitor='val_loss', patience=5, restore_best_weights=True)\n",
        "\n",
        "siamese_model = SiameseModel(siamese_network)\n",
        "siamese_model.compile(optimizer=Adam(0.0001))\n",
        "\n",
        "history = siamese_model.fit(\n",
        "    train_dataset,\n",
        "    validation_data=test_dataset,\n",
        "    epochs=20,\n",
        "    callbacks=[early_stopping]\n",
        ")\n"
      ],
      "metadata": {
        "colab": {
          "base_uri": "https://localhost:8080/"
        },
        "collapsed": true,
        "id": "m-0txQsvwdlR",
        "outputId": "6ae1edbd-520e-4440-d7f8-6c2e5c4f09a1"
      },
      "execution_count": null,
      "outputs": [
        {
          "output_type": "stream",
          "name": "stdout",
          "text": [
            "Epoch 1/20\n",
            "\u001b[1m35/35\u001b[0m \u001b[32m━━━━━━━━━━━━━━━━━━━━\u001b[0m\u001b[37m\u001b[0m \u001b[1m35s\u001b[0m 947ms/step - loss: 0.4161 - val_loss: 0.3870\n",
            "Epoch 2/20\n",
            "\u001b[1m35/35\u001b[0m \u001b[32m━━━━━━━━━━━━━━━━━━━━\u001b[0m\u001b[37m\u001b[0m \u001b[1m33s\u001b[0m 958ms/step - loss: 0.2922 - val_loss: 0.3625\n",
            "Epoch 3/20\n",
            "\u001b[1m35/35\u001b[0m \u001b[32m━━━━━━━━━━━━━━━━━━━━\u001b[0m\u001b[37m\u001b[0m \u001b[1m34s\u001b[0m 970ms/step - loss: 0.2389 - val_loss: 0.3814\n",
            "Epoch 4/20\n",
            "\u001b[1m35/35\u001b[0m \u001b[32m━━━━━━━━━━━━━━━━━━━━\u001b[0m\u001b[37m\u001b[0m \u001b[1m28s\u001b[0m 790ms/step - loss: 0.2283 - val_loss: 0.3263\n",
            "Epoch 5/20\n",
            "\u001b[1m35/35\u001b[0m \u001b[32m━━━━━━━━━━━━━━━━━━━━\u001b[0m\u001b[37m\u001b[0m \u001b[1m32s\u001b[0m 909ms/step - loss: 0.1866 - val_loss: 0.3503\n",
            "Epoch 6/20\n",
            "\u001b[1m35/35\u001b[0m \u001b[32m━━━━━━━━━━━━━━━━━━━━\u001b[0m\u001b[37m\u001b[0m \u001b[1m36s\u001b[0m 761ms/step - loss: 0.1532 - val_loss: 0.3536\n",
            "Epoch 7/20\n",
            "\u001b[1m35/35\u001b[0m \u001b[32m━━━━━━━━━━━━━━━━━━━━\u001b[0m\u001b[37m\u001b[0m \u001b[1m27s\u001b[0m 784ms/step - loss: 0.1208 - val_loss: 0.3515\n",
            "Epoch 8/20\n",
            "\u001b[1m35/35\u001b[0m \u001b[32m━━━━━━━━━━━━━━━━━━━━\u001b[0m\u001b[37m\u001b[0m \u001b[1m48s\u001b[0m 985ms/step - loss: 0.1067 - val_loss: 0.3519\n",
            "Epoch 9/20\n",
            "\u001b[1m35/35\u001b[0m \u001b[32m━━━━━━━━━━━━━━━━━━━━\u001b[0m\u001b[37m\u001b[0m \u001b[1m33s\u001b[0m 738ms/step - loss: 0.0605 - val_loss: 0.3395\n"
          ]
        }
      ]
    },
    {
      "cell_type": "code",
      "source": [
        "\n",
        "# Save the models\n",
        "embedding.save('siamese_embedding_model.h5')\n"
      ],
      "metadata": {
        "colab": {
          "base_uri": "https://localhost:8080/"
        },
        "id": "aw-MNN2aw0sY",
        "outputId": "c00ec89e-035a-4fb1-bc80-64134a63ced0"
      },
      "execution_count": null,
      "outputs": [
        {
          "output_type": "stream",
          "name": "stderr",
          "text": [
            "WARNING:absl:You are saving your model as an HDF5 file via `model.save()` or `keras.saving.save_model(model)`. This file format is considered legacy. We recommend using instead the native Keras format, e.g. `model.save('my_model.keras')` or `keras.saving.save_model(model, 'my_model.keras')`. \n"
          ]
        }
      ]
    },
    {
      "cell_type": "markdown",
      "source": [
        "###Adds a batch dim(which means 1 for single instanec) and make face verification\n",
        "\n",
        "---\n",
        "\n",
        "Calculates the Euclidean distance between the two pairs and return the matched faces"
      ],
      "metadata": {
        "id": "_0RO3kCU0Slv"
      }
    },
    {
      "cell_type": "code",
      "source": [
        "\n",
        "def compute_embedding(image):\n",
        "    image = np.expand_dims(image, axis=0)\n",
        "\n",
        "    return embedding.predict(image)\n",
        "\n",
        "def verify_faces(face1, face2, threshold=0.5):\n",
        "\n",
        "    emb1 = compute_embedding(face1)\n",
        "    emb2 = compute_embedding(face2)\n",
        "\n",
        "    distance = np.sum(np.square(emb1 - emb2))\n",
        "\n",
        "    return distance < threshold, distance"
      ],
      "metadata": {
        "id": "EQ4i_m9Rw0vN"
      },
      "execution_count": null,
      "outputs": []
    },
    {
      "cell_type": "code",
      "source": [
        "from sklearn.metrics import accuracy_score\n",
        "test_accuracy = compute_verification_accuracy(siamese_network, test_pairs, test_labels)\n",
        "test_accuracy\n"
      ],
      "metadata": {
        "colab": {
          "base_uri": "https://localhost:8080/"
        },
        "id": "F73AwXJTx0fT",
        "outputId": "b46c95af-e7db-4cb7-d70c-bc87b8866a03"
      },
      "execution_count": null,
      "outputs": [
        {
          "output_type": "execute_result",
          "data": {
            "text/plain": [
              "np.float64(0.665)"
            ]
          },
          "metadata": {},
          "execution_count": 52
        }
      ]
    },
    {
      "cell_type": "code",
      "source": [],
      "metadata": {
        "id": "o5Kxaly00q1E"
      },
      "execution_count": null,
      "outputs": []
    }
  ]
}